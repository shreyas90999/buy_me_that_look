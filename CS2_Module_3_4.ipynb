{
  "nbformat": 4,
  "nbformat_minor": 0,
  "metadata": {
    "colab": {
      "name": "CS2_Module_3_4.ipynb",
      "provenance": [],
      "collapsed_sections": [],
      "toc_visible": true
    },
    "kernelspec": {
      "name": "python3",
      "display_name": "Python 3"
    },
    "accelerator": "GPU"
  },
  "cells": [
    {
      "cell_type": "code",
      "metadata": {
        "colab": {
          "base_uri": "https://localhost:8080/"
        },
        "id": "EJfC1_b11jQY",
        "outputId": "4e1e12ac-1d69-4957-9aa0-60f03f1f8cfc"
      },
      "source": [
        "!nvidia-smi"
      ],
      "execution_count": 1,
      "outputs": [
        {
          "output_type": "stream",
          "text": [
            "Thu Dec  3 09:04:23 2020       \n",
            "+-----------------------------------------------------------------------------+\n",
            "| NVIDIA-SMI 455.38       Driver Version: 418.67       CUDA Version: 10.1     |\n",
            "|-------------------------------+----------------------+----------------------+\n",
            "| GPU  Name        Persistence-M| Bus-Id        Disp.A | Volatile Uncorr. ECC |\n",
            "| Fan  Temp  Perf  Pwr:Usage/Cap|         Memory-Usage | GPU-Util  Compute M. |\n",
            "|                               |                      |               MIG M. |\n",
            "|===============================+======================+======================|\n",
            "|   0  Tesla P4            Off  | 00000000:00:04.0 Off |                    0 |\n",
            "| N/A   47C    P8     7W /  75W |      0MiB /  7611MiB |      0%      Default |\n",
            "|                               |                      |                 ERR! |\n",
            "+-------------------------------+----------------------+----------------------+\n",
            "                                                                               \n",
            "+-----------------------------------------------------------------------------+\n",
            "| Processes:                                                                  |\n",
            "|  GPU   GI   CI        PID   Type   Process name                  GPU Memory |\n",
            "|        ID   ID                                                   Usage      |\n",
            "|=============================================================================|\n",
            "|  No running processes found                                                 |\n",
            "+-----------------------------------------------------------------------------+\n"
          ],
          "name": "stdout"
        }
      ]
    },
    {
      "cell_type": "markdown",
      "metadata": {
        "id": "71X_i0fl2K5n"
      },
      "source": [
        "# **Module 3 (Generate embeddings of images)**\n",
        "In this module we will use some pre-trained and get embeddings from their last layer"
      ]
    },
    {
      "cell_type": "code",
      "metadata": {
        "id": "b3i3zLy52EiI"
      },
      "source": [
        "import tensorflow as tf\n",
        "import datetime as dt\n",
        "import cv2\n",
        "import numpy as np\n"
      ],
      "execution_count": 14,
      "outputs": []
    },
    {
      "cell_type": "code",
      "metadata": {
        "colab": {
          "base_uri": "https://localhost:8080/"
        },
        "id": "V3PqdiAp2VAB",
        "outputId": "49608584-3a82-4122-ca6b-1562b3573e88"
      },
      "source": [
        "tf.keras.backend.clear_session()\n",
        "model_embedding = tf.keras.applications.DenseNet121(\n",
        "    include_top=False, weights='imagenet', input_tensor=None, input_shape=(520,520,3),\n",
        "    pooling=None,\n",
        ")\n",
        "def load_img(path):\n",
        "\n",
        "  img = cv2.imread(path,cv2.IMREAD_UNCHANGED) \n",
        "  img = cv2.resize(img,(520,520),interpolation=cv2.INTER_AREA)\n",
        "  img = cv2.cvtColor(img,cv2.COLOR_BGR2RGB)\n",
        "  img = tf.image.convert_image_dtype(img,tf.float32)[tf.newaxis, ...] \n",
        "  return img \n",
        "\n",
        "def get_embeddings(path):\n",
        "  img = load_img(path)\n",
        "  op = model_embedding.predict(img,steps=1)\n",
        "  op = tf.squeeze(op, axis=None, name=None)\n",
        "  op = tf.reduce_mean(op, axis=(0,1), keepdims=False, name=None).numpy()\n",
        "  #op = op.eval(session=tf.Session()) \n",
        "  op = op.tolist()\n",
        "  return op"
      ],
      "execution_count": 15,
      "outputs": [
        {
          "output_type": "stream",
          "text": [
            "Downloading data from https://storage.googleapis.com/tensorflow/keras-applications/densenet/densenet121_weights_tf_dim_ordering_tf_kernels_notop.h5\n",
            "29089792/29084464 [==============================] - 2s 0us/step\n"
          ],
          "name": "stdout"
        }
      ]
    },
    {
      "cell_type": "code",
      "metadata": {
        "colab": {
          "base_uri": "https://localhost:8080/"
        },
        "id": "leQGKhe32YFo",
        "outputId": "b732aeb1-74e6-4760-f273-755a1d18be35"
      },
      "source": [
        "t = dt.datetime.now()\n",
        "em1 = get_embeddings('/content/image4_3.jpg')\n",
        "print(\"Time taken to generate embeddings \",dt.datetime.now()-t)"
      ],
      "execution_count": 16,
      "outputs": [
        {
          "output_type": "stream",
          "text": [
            "Time taken to generate embeddings  0:00:07.935867\n"
          ],
          "name": "stdout"
        }
      ]
    },
    {
      "cell_type": "code",
      "metadata": {
        "id": "-fr40RgR2jSp"
      },
      "source": [
        "\"\"\"\n",
        "So I am taking pre-trained models and removing the top layer and just taking the embeddings. So before finalize \n",
        "DenseNet12 model I tried ResNet50,ResNet101, MobileNet, Iception but all models embeddings had an average sparsity of 20% to 30%\n",
        "whereas DenseNet12 had only 4% average sparsity in embedding vector. \n",
        "\n",
        "So I choose DenseNet12 model for embedding.\n",
        "\"\"\""
      ],
      "execution_count": null,
      "outputs": []
    },
    {
      "cell_type": "markdown",
      "metadata": {
        "id": "VBr94eNE3Eu-"
      },
      "source": [
        "# **Module 4 (Store embeddings)**\n",
        "In this module we will store all our embeddings in Elastic Search so we can easily retrive them using similarity logic\n"
      ]
    },
    {
      "cell_type": "code",
      "metadata": {
        "colab": {
          "base_uri": "https://localhost:8080/"
        },
        "id": "YOzMkRRG3F7q",
        "outputId": "ac484dd7-7c38-4dcd-dab2-729a9826327c"
      },
      "source": [
        "!pip install elasticsearch"
      ],
      "execution_count": 1,
      "outputs": [
        {
          "output_type": "stream",
          "text": [
            "Collecting elasticsearch\n",
            "\u001b[?25l  Downloading https://files.pythonhosted.org/packages/14/ba/f950bdd9164fb2bbbe5093700162234fbe61f446fe2300a8993761c132ca/elasticsearch-7.10.0-py2.py3-none-any.whl (321kB)\n",
            "\r\u001b[K     |█                               | 10kB 23.6MB/s eta 0:00:01\r\u001b[K     |██                              | 20kB 10.0MB/s eta 0:00:01\r\u001b[K     |███                             | 30kB 7.9MB/s eta 0:00:01\r\u001b[K     |████                            | 40kB 7.2MB/s eta 0:00:01\r\u001b[K     |█████                           | 51kB 4.3MB/s eta 0:00:01\r\u001b[K     |██████                          | 61kB 4.9MB/s eta 0:00:01\r\u001b[K     |███████▏                        | 71kB 5.0MB/s eta 0:00:01\r\u001b[K     |████████▏                       | 81kB 5.2MB/s eta 0:00:01\r\u001b[K     |█████████▏                      | 92kB 5.6MB/s eta 0:00:01\r\u001b[K     |██████████▏                     | 102kB 5.7MB/s eta 0:00:01\r\u001b[K     |███████████▏                    | 112kB 5.7MB/s eta 0:00:01\r\u001b[K     |████████████▏                   | 122kB 5.7MB/s eta 0:00:01\r\u001b[K     |█████████████▎                  | 133kB 5.7MB/s eta 0:00:01\r\u001b[K     |██████████████▎                 | 143kB 5.7MB/s eta 0:00:01\r\u001b[K     |███████████████▎                | 153kB 5.7MB/s eta 0:00:01\r\u001b[K     |████████████████▎               | 163kB 5.7MB/s eta 0:00:01\r\u001b[K     |█████████████████▎              | 174kB 5.7MB/s eta 0:00:01\r\u001b[K     |██████████████████▎             | 184kB 5.7MB/s eta 0:00:01\r\u001b[K     |███████████████████▍            | 194kB 5.7MB/s eta 0:00:01\r\u001b[K     |████████████████████▍           | 204kB 5.7MB/s eta 0:00:01\r\u001b[K     |█████████████████████▍          | 215kB 5.7MB/s eta 0:00:01\r\u001b[K     |██████████████████████▍         | 225kB 5.7MB/s eta 0:00:01\r\u001b[K     |███████████████████████▍        | 235kB 5.7MB/s eta 0:00:01\r\u001b[K     |████████████████████████▍       | 245kB 5.7MB/s eta 0:00:01\r\u001b[K     |█████████████████████████▌      | 256kB 5.7MB/s eta 0:00:01\r\u001b[K     |██████████████████████████▌     | 266kB 5.7MB/s eta 0:00:01\r\u001b[K     |███████████████████████████▌    | 276kB 5.7MB/s eta 0:00:01\r\u001b[K     |████████████████████████████▌   | 286kB 5.7MB/s eta 0:00:01\r\u001b[K     |█████████████████████████████▌  | 296kB 5.7MB/s eta 0:00:01\r\u001b[K     |██████████████████████████████▌ | 307kB 5.7MB/s eta 0:00:01\r\u001b[K     |███████████████████████████████▋| 317kB 5.7MB/s eta 0:00:01\r\u001b[K     |████████████████████████████████| 327kB 5.7MB/s \n",
            "\u001b[?25hRequirement already satisfied: certifi in /usr/local/lib/python3.6/dist-packages (from elasticsearch) (2020.11.8)\n",
            "Requirement already satisfied: urllib3<2,>=1.21.1 in /usr/local/lib/python3.6/dist-packages (from elasticsearch) (1.24.3)\n",
            "Installing collected packages: elasticsearch\n",
            "Successfully installed elasticsearch-7.10.0\n"
          ],
          "name": "stdout"
        }
      ]
    },
    {
      "cell_type": "code",
      "metadata": {
        "id": "YFTndPp-3GMo"
      },
      "source": [
        "from elasticsearch import Elasticsearch\n",
        "import os\n",
        "import pandas as pd\n",
        "import json\n",
        "from elasticsearch import helpers\n",
        "import os\n",
        "import numpy as np"
      ],
      "execution_count": 2,
      "outputs": []
    },
    {
      "cell_type": "code",
      "metadata": {
        "id": "54D67MnI3GWp"
      },
      "source": [
        "\n",
        "os.environ['KAGGLE_CONFIG_DIR'] = \"/content/drive/MyDrive/AAIC/CS2/\""
      ],
      "execution_count": 3,
      "outputs": []
    },
    {
      "cell_type": "code",
      "metadata": {
        "colab": {
          "base_uri": "https://localhost:8080/"
        },
        "id": "qTEHQIMr3P2e",
        "outputId": "baf7841b-d003-473b-dc67-464099419b15"
      },
      "source": [
        "!kaggle datasets download -d shreyas90999/mycasestudy02ee"
      ],
      "execution_count": 4,
      "outputs": [
        {
          "output_type": "stream",
          "text": [
            "Downloading mycasestudy02ee.zip to /content\n",
            "100% 11.1G/11.1G [05:09<00:00, 26.0MB/s]\n",
            "100% 11.1G/11.1G [05:09<00:00, 38.5MB/s]\n"
          ],
          "name": "stdout"
        }
      ]
    },
    {
      "cell_type": "code",
      "metadata": {
        "colab": {
          "base_uri": "https://localhost:8080/"
        },
        "id": "qfl2855F3SkZ",
        "outputId": "56c47fd7-b36f-4edc-8eaf-bdd9ad2a2b4d"
      },
      "source": [
        "!mkdir data\n",
        "!unzip -q '/content/Mask_RCNN/mycasestudy02ee.zip' -d '/content/data'\n",
        "!rm -rf '/content/mycasestudy02ee.zip'"
      ],
      "execution_count": 5,
      "outputs": [
        {
          "output_type": "stream",
          "text": [
            "unzip:  cannot find or open /content/Mask_RCNN/mycasestudy02ee.zip, /content/Mask_RCNN/mycasestudy02ee.zip.zip or /content/Mask_RCNN/mycasestudy02ee.zip.ZIP.\n"
          ],
          "name": "stdout"
        }
      ]
    },
    {
      "cell_type": "code",
      "metadata": {
        "id": "GBS6WIDe34fd"
      },
      "source": [
        "#get data from json file\n",
        "folder = []\n",
        "json_file =[]\n",
        "for (root,dirs,files) in os.walk('/content/data/', topdown=False):\n",
        "  for directory in dirs:\n",
        "    for i in os.listdir(root+directory):\n",
        "      if i.endswith('.json'):\n",
        "        folder.append(directory)\n",
        "        json_file.append(i)"
      ],
      "execution_count": 6,
      "outputs": []
    },
    {
      "cell_type": "code",
      "metadata": {
        "id": "YYuHHv5T36Am"
      },
      "source": [
        "#create csv\n",
        "super_cat = []\n",
        "cat = []\n",
        "info = []\n",
        "file_name = []\n",
        "url =[]\n",
        "for i in range(len(json_file)):\n",
        "  f = open('/content/data/' + folder[i] + '/' + json_file[i] )\n",
        "  data = json.load(f)\n",
        "  for j in data['name']:\n",
        "    if folder[i]=='women_boots' or folder[i]=='women_casual_shoes' or folder[i]=='women_flats' or folder[i]=='women_heels':\n",
        "       super_cat.append('foot_ware')\n",
        "       cat.append(folder[i])\n",
        "       info.append(json_file[i])\n",
        "       file_name.append(j)\n",
        "       url.append(data['url'])\n",
        "    if folder[i]=='women_shirts_tops_tees':\n",
        "      super_cat.append('upper_ware')\n",
        "      cat.append(folder[i])\n",
        "      info.append(json_file[i])\n",
        "      file_name.append(j)\n",
        "      url.append(data['url'])\n",
        "    if folder[i]=='women_jeans_jeggings' or folder[i]=='women_shorts_skirts' or folder[i]=='women_trousers':\n",
        "      super_cat.append('lower_ware')\n",
        "      cat.append(folder[i])\n",
        "      info.append(json_file[i])\n",
        "      file_name.append(j)\n",
        "      url.append(data['url'])\n",
        "  f.close()\n",
        "\n",
        "\n",
        "\n",
        "df = pd.DataFrame({ 'id':np.arange(len(file_name)),\n",
        "                    'super_cat':super_cat,\n",
        "                   'cat':cat,\n",
        "                   'info':info,\n",
        "                   'file_name':file_name,\n",
        "                   'url':url})"
      ],
      "execution_count": 7,
      "outputs": []
    },
    {
      "cell_type": "markdown",
      "metadata": {
        "id": "BnJ2-aPW4Npz"
      },
      "source": [
        "Transfer data to Elastic Search instance"
      ]
    },
    {
      "cell_type": "code",
      "metadata": {
        "id": "FAfuFPN94HPT"
      },
      "source": [
        "es = Elasticsearch()\n",
        "\n",
        "create_query = {\n",
        "    \"mappings\": {\n",
        "        \"properties\": {\n",
        "            \"description_vector\": {\n",
        "                \"type\": \"dense_vector\",\n",
        "                \"dims\": 1024\n",
        "            }\n",
        "        }\n",
        "    }\n",
        "}\n",
        "#create index\n",
        "es.indices.create(index=\"upper_ware\", body=create_query)\n",
        "es.indices.create(index=\"foot_ware\", body=create_query)\n",
        "es.indices.create(index=\"lower_ware\", body=create_query)"
      ],
      "execution_count": 10,
      "outputs": []
    },
    {
      "cell_type": "code",
      "metadata": {
        "id": "ZqLQ-_L54T44"
      },
      "source": [
        "#genrate docs and embedding to transfer to Elastic search\n",
        "docs = []\n",
        "c = 0\n",
        "t = dt.datetime.now()\n",
        "for row in df.iterrows():\n",
        "  json_obj = {}\n",
        "  path = root + row[1]['cat']+'/' + row[1]['file_name']\n",
        "  em = get_embeddings(path)\n",
        "  json_obj['_index']=row[1]['super_cat']\n",
        "  json_obj['_id']=row[1]['id']\n",
        "  json_obj['url'] = row[1]['url']\n",
        "  json_obj['cat'] = row[1]['cat']\n",
        "  json_obj['file_name'] = row[1]['file_name']\n",
        "  json_obj['description_vector'] = em\n",
        "  docs.append(json_obj)\n",
        "  c+=1\n",
        "  if c%5000==0:\n",
        "    print(c)\n",
        "    print(dt.datetime.now()-t)\n",
        "\n"
      ],
      "execution_count": null,
      "outputs": []
    },
    {
      "cell_type": "code",
      "metadata": {
        "id": "WHmM49KU4dzA"
      },
      "source": [
        "#transfer all embeddings to Elastic Search\n",
        "helpers.bulk(es, docs)"
      ],
      "execution_count": null,
      "outputs": []
    },
    {
      "cell_type": "code",
      "metadata": {
        "id": "vQtOhv2F4gM_"
      },
      "source": [
        "#Search query (we will now search for similar products)\n",
        "def search_similar_image(query_vec,index_label):\n",
        "  search_query = {\n",
        "      \"size\": 20,\n",
        "      \"_source\": {\n",
        "          \"includes\": [\"file_name\",\"url\"]\n",
        "      },\n",
        "      \"query\": {\n",
        "          \"script_score\": {\n",
        "              \"query\": {\n",
        "                  \"match_all\": {}\n",
        "              },\n",
        "              \"script\": {\n",
        "                  #\"source\": \"cosineSimilarity(params.queryVector, 'description_vector') + 1.0\",\n",
        "                  \"source\": \"1 / l2norm(params.queryVector,'description_vector') + 1.0\",\n",
        "                  \"params\": {\n",
        "                      \"queryVector\": query_vec\n",
        "                  }\n",
        "              }\n",
        "          }\n",
        "      }\n",
        "  }\n",
        "  response = es.search(\n",
        "      index= index_label,\n",
        "      body=search_query\n",
        "  )\n",
        "\n",
        "  return response\n"
      ],
      "execution_count": 17,
      "outputs": []
    },
    {
      "cell_type": "code",
      "metadata": {
        "id": "NTjb6j2H4uGC"
      },
      "source": [
        "query_vec = get_embeddings('/content/image4_3.jpg')"
      ],
      "execution_count": 19,
      "outputs": []
    },
    {
      "cell_type": "code",
      "metadata": {
        "id": "2Ki7R2yY5bcg"
      },
      "source": [
        "index_label = 'upper_ware'\n",
        "response = search_similar_image(query_vec,index_label)"
      ],
      "execution_count": 21,
      "outputs": []
    },
    {
      "cell_type": "code",
      "metadata": {
        "colab": {
          "base_uri": "https://localhost:8080/"
        },
        "id": "lVguSCml55qp",
        "outputId": "1362ac46-b5d6-4c6f-ad4d-7d8d123b704f"
      },
      "source": [
        "#below are results of similar items that we added in Elastic search\n",
        "response"
      ],
      "execution_count": 22,
      "outputs": [
        {
          "output_type": "execute_result",
          "data": {
            "text/plain": [
              "{'_shards': {'failed': 0, 'skipped': 0, 'successful': 1, 'total': 1},\n",
              " 'hits': {'hits': [{'_id': '73648',\n",
              "    '_index': 'upper_ware',\n",
              "    '_score': 1.3063021,\n",
              "    '_source': {'file_name': 'image3151_4.jpg',\n",
              "     'url': 'https://www.myntra.com/tops/only/only-women-peach-coloured-solid-gathered-crop-top/11702986/buy'},\n",
              "    '_type': '_doc'},\n",
              "   {'_id': '68921',\n",
              "    '_index': 'upper_ware',\n",
              "    '_score': 1.2818905,\n",
              "    '_source': {'file_name': 'image3778_3.jpg',\n",
              "     'url': 'https://www.myntra.com/tops/dorothy-perkins/dorothy-perkins-women-white-solid-puff-sleeves-top/12311078/buy'},\n",
              "    '_type': '_doc'},\n",
              "   {'_id': '71181',\n",
              "    '_index': 'upper_ware',\n",
              "    '_score': 1.2818905,\n",
              "    '_source': {'file_name': 'image3828_3.jpg',\n",
              "     'url': 'https://www.myntra.com/tops/dorothy-perkins/dorothy-perkins-women-white-solid-puff-sleeves-top/12311078/buy'},\n",
              "    '_type': '_doc'},\n",
              "   {'_id': '68823',\n",
              "    '_index': 'upper_ware',\n",
              "    '_score': 1.2755834,\n",
              "    '_source': {'file_name': 'image2295_4.jpg',\n",
              "     'url': 'https://www.myntra.com/tops/only/only-women-off-white-solid-top/11702932/buy'},\n",
              "    '_type': '_doc'},\n",
              "   {'_id': '74019',\n",
              "    '_index': 'upper_ware',\n",
              "    '_score': 1.2755834,\n",
              "    '_source': {'file_name': 'image2345_4.jpg',\n",
              "     'url': 'https://www.myntra.com/tops/only/only-women-off-white-solid-top/11702932/buy'},\n",
              "    '_type': '_doc'},\n",
              "   {'_id': '69378',\n",
              "    '_index': 'upper_ware',\n",
              "    '_score': 1.2705314,\n",
              "    '_source': {'file_name': 'image2440_4.jpg',\n",
              "     'url': 'https://www.myntra.com/tshirts/superdry/superdry-women-coral-printed-round-neck-t-shirt/7160321/buy'},\n",
              "    '_type': '_doc'},\n",
              "   {'_id': '63346',\n",
              "    '_index': 'upper_ware',\n",
              "    '_score': 1.2676764,\n",
              "    '_source': {'file_name': 'image2390_4.jpg',\n",
              "     'url': 'https://www.myntra.com/tshirts/superdry/superdry-women-coral-printed-round-neck-t-shirt/7160321/buy'},\n",
              "    '_type': '_doc'},\n",
              "   {'_id': '67509',\n",
              "    '_index': 'upper_ware',\n",
              "    '_score': 1.2674493,\n",
              "    '_source': {'file_name': 'image3161_4.jpg',\n",
              "     'url': 'https://www.myntra.com/shirts/only/only-women-mustard-yellow--navy-blue-regular-fit-striped-crop-casual-shirt/11685926/buy'},\n",
              "    '_type': '_doc'},\n",
              "   {'_id': '66148',\n",
              "    '_index': 'upper_ware',\n",
              "    '_score': 1.2629862,\n",
              "    '_source': {'file_name': 'image3835_4.jpg',\n",
              "     'url': 'https://www.myntra.com/tshirts/scotch--soda/scotch--soda-women-red-printed-round-neck-t-shirt/8651723/buy'},\n",
              "    '_type': '_doc'},\n",
              "   {'_id': '73881',\n",
              "    '_index': 'upper_ware',\n",
              "    '_score': 1.2629862,\n",
              "    '_source': {'file_name': 'image3785_4.jpg',\n",
              "     'url': 'https://www.myntra.com/tshirts/scotch--soda/scotch--soda-women-red-printed-round-neck-t-shirt/8651723/buy'},\n",
              "    '_type': '_doc'},\n",
              "   {'_id': '71226',\n",
              "    '_index': 'upper_ware',\n",
              "    '_score': 1.2624638,\n",
              "    '_source': {'file_name': 'image1781_4.jpg',\n",
              "     'url': 'https://www.myntra.com/tops/tommy-hilfiger/tommy-hilfiger-women-white--navy-blue-colourblocked-bardot-top/2585712/buy'},\n",
              "    '_type': '_doc'},\n",
              "   {'_id': '62778',\n",
              "    '_index': 'upper_ware',\n",
              "    '_score': 1.262195,\n",
              "    '_source': {'file_name': 'image5_4.jpg',\n",
              "     'url': 'https://www.myntra.com/tops/scotch--soda/scotch--soda-women-rust-red-solid-top/8532549/buy'},\n",
              "    '_type': '_doc'},\n",
              "   {'_id': '68010',\n",
              "    '_index': 'upper_ware',\n",
              "    '_score': 1.262195,\n",
              "    '_source': {'file_name': 'image105_4.jpg',\n",
              "     'url': 'https://www.myntra.com/tops/scotch--soda/scotch--soda-women-rust-red-solid-top/8532549/buy'},\n",
              "    '_type': '_doc'},\n",
              "   {'_id': '70996',\n",
              "    '_index': 'upper_ware',\n",
              "    '_score': 1.262195,\n",
              "    '_source': {'file_name': 'image55_4.jpg',\n",
              "     'url': 'https://www.myntra.com/tops/scotch--soda/scotch--soda-women-rust-red-solid-top/8532549/buy'},\n",
              "    '_type': '_doc'},\n",
              "   {'_id': '71562',\n",
              "    '_index': 'upper_ware',\n",
              "    '_score': 1.2588768,\n",
              "    '_source': {'file_name': 'image1731_4.jpg',\n",
              "     'url': 'https://www.myntra.com/tops/tommy-hilfiger/tommy-hilfiger-women-white--navy-blue-colourblocked-bardot-top/2585712/buy'},\n",
              "    '_type': '_doc'},\n",
              "   {'_id': '72373',\n",
              "    '_index': 'upper_ware',\n",
              "    '_score': 1.2588768,\n",
              "    '_source': {'file_name': 'image1681_4.jpg',\n",
              "     'url': 'https://www.myntra.com/tops/tommy-hilfiger/tommy-hilfiger-women-white--navy-blue-colourblocked-bardot-top/2585712/buy'},\n",
              "    '_type': '_doc'},\n",
              "   {'_id': '66458',\n",
              "    '_index': 'upper_ware',\n",
              "    '_score': 1.2585429,\n",
              "    '_source': {'file_name': 'image2906_2.jpg',\n",
              "     'url': 'https://www.myntra.com/tops/marks--spencer/marks--spencer-women-white-lace-semi-sheer-peplum-top/7502103/buy'},\n",
              "    '_type': '_doc'},\n",
              "   {'_id': '69250',\n",
              "    '_index': 'upper_ware',\n",
              "    '_score': 1.2585429,\n",
              "    '_source': {'file_name': 'image2856_2.jpg',\n",
              "     'url': 'https://www.myntra.com/tops/marks--spencer/marks--spencer-women-white-lace-semi-sheer-peplum-top/7502103/buy'},\n",
              "    '_type': '_doc'},\n",
              "   {'_id': '72812',\n",
              "    '_index': 'upper_ware',\n",
              "    '_score': 1.2585429,\n",
              "    '_source': {'file_name': 'image2806_2.jpg',\n",
              "     'url': 'https://www.myntra.com/tops/marks--spencer/marks--spencer-women-white-lace-semi-sheer-peplum-top/7502103/buy'},\n",
              "    '_type': '_doc'},\n",
              "   {'_id': '61308',\n",
              "    '_index': 'upper_ware',\n",
              "    '_score': 1.2552295,\n",
              "    '_source': {'file_name': 'image660_4.jpg',\n",
              "     'url': 'https://www.myntra.com/tops/ovs/ovs-women-blue-solid-a-line-top/7560535/buy'},\n",
              "    '_type': '_doc'}],\n",
              "  'max_score': 1.3063021,\n",
              "  'total': {'relation': 'gte', 'value': 10000}},\n",
              " 'timed_out': False,\n",
              " 'took': 172}"
            ]
          },
          "metadata": {
            "tags": []
          },
          "execution_count": 22
        }
      ]
    },
    {
      "cell_type": "code",
      "metadata": {
        "id": "znu4FWYh6Dqp"
      },
      "source": [
        ""
      ],
      "execution_count": null,
      "outputs": []
    }
  ]
}